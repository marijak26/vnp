{
 "cells": [
  {
   "cell_type": "markdown",
   "metadata": {
    "id": "rODb9vHvIEbp"
   },
   "source": [
    "# Requirements"
   ]
  },
  {
   "cell_type": "code",
   "execution_count": 1,
   "metadata": {
    "id": "U4KmHBd2cdx9"
   },
   "outputs": [],
   "source": [
    "import pandas as pd"
   ]
  },
  {
   "cell_type": "markdown",
   "metadata": {
    "id": "KNMMoUiUIW3L"
   },
   "source": [
    "# Laboratory Exercise - Run Mode (8 points)"
   ]
  },
  {
   "cell_type": "markdown",
   "metadata": {
    "id": "_rAh_91OIjeS"
   },
   "source": [
    "## Introduction\n",
    "In this laboratory assignment, the primary objective is to use Long Short-Term Memory (LSTM) networks for time series forecasting in order to predict the current **close price** of the Dow Jones Industrial Average index. To accomplish this use data from the past 7 days, which includes numeric information and news information. The goal is to employ LSTM, a type of recurrent neural network, to effectively forecast one future step for the index price (the following day).\n"
   ]
  },
  {
   "cell_type": "markdown",
   "metadata": {
    "id": "zBYI-EypaWom"
   },
   "source": [
    "## The DIJA Dataset\n",
    "\n",
    "This dataset consists of daily price records for the value of the Dow Jones Industrial Average index. The dataset includes the following attributes:\n",
    "\n",
    "- Date - date in the format YYYY-MM-DD,\n",
    "- Open - open price of the index on the specified date\n",
    "- Close - close price of the index on the specified date\n",
    "- High - high price of the index on the specified date\n",
    "- Low - low price of the index on the specified date\n",
    "- Volume - number of trades\n",
    "\n"
   ]
  },
  {
   "cell_type": "markdown",
   "metadata": {},
   "source": [
    "## The Reddit News Dataset"
   ]
  },
  {
   "cell_type": "markdown",
   "metadata": {},
   "source": [
    "This dataset consists of news headlines for a certain date that might impact the price:\n",
    "\n",
    "- Date - date in the format YYYY-MM-DD,\n",
    "- News - news headline scraped from Reddit\n",
    "\n",
    "<b>Note: You might have multiple headlines for each date. The number of news per date might not be the same for each date. <b>"
   ]
  },
  {
   "cell_type": "markdown",
   "metadata": {
    "id": "DCm1qm1mZwMr"
   },
   "source": [
    "Load the datasets into a `pandas` data frame."
   ]
  },
  {
   "cell_type": "code",
   "execution_count": 5,
   "metadata": {
    "id": "KMOn4fgcZn8s"
   },
   "outputs": [],
   "source": [
    "djia_df = pd.read_csv('C:/Users/kosta/OneDrive/Desktop/marija/DJIA_table.csv')\n",
    "news_df = pd.read_csv('C:/Users/kosta/OneDrive/Desktop/marija/RedditNews.csv')"
   ]
  },
  {
   "cell_type": "markdown",
   "metadata": {
    "id": "5slwyyhCKRo9"
   },
   "source": [
    "Merge the datasets (be careful you can get multiple rows per date which is not desirable)"
   ]
  },
  {
   "cell_type": "code",
   "execution_count": 6,
   "metadata": {
    "id": "DFY6TKhGKOY4"
   },
   "outputs": [
    {
     "data": {
      "text/html": [
       "<div>\n",
       "<style scoped>\n",
       "    .dataframe tbody tr th:only-of-type {\n",
       "        vertical-align: middle;\n",
       "    }\n",
       "\n",
       "    .dataframe tbody tr th {\n",
       "        vertical-align: top;\n",
       "    }\n",
       "\n",
       "    .dataframe thead th {\n",
       "        text-align: right;\n",
       "    }\n",
       "</style>\n",
       "<table border=\"1\" class=\"dataframe\">\n",
       "  <thead>\n",
       "    <tr style=\"text-align: right;\">\n",
       "      <th></th>\n",
       "      <th>Date</th>\n",
       "      <th>Open</th>\n",
       "      <th>High</th>\n",
       "      <th>Low</th>\n",
       "      <th>Close</th>\n",
       "      <th>Volume</th>\n",
       "    </tr>\n",
       "  </thead>\n",
       "  <tbody>\n",
       "    <tr>\n",
       "      <th>0</th>\n",
       "      <td>7/1/2016</td>\n",
       "      <td>17924.24023</td>\n",
       "      <td>18002.38086</td>\n",
       "      <td>17916.91016</td>\n",
       "      <td>17949.36914</td>\n",
       "      <td>82160000</td>\n",
       "    </tr>\n",
       "    <tr>\n",
       "      <th>1</th>\n",
       "      <td>6/30/2016</td>\n",
       "      <td>17712.75977</td>\n",
       "      <td>17930.60938</td>\n",
       "      <td>17711.80078</td>\n",
       "      <td>17929.99023</td>\n",
       "      <td>133030000</td>\n",
       "    </tr>\n",
       "    <tr>\n",
       "      <th>2</th>\n",
       "      <td>6/29/2016</td>\n",
       "      <td>17456.01953</td>\n",
       "      <td>17704.50977</td>\n",
       "      <td>17456.01953</td>\n",
       "      <td>17694.67969</td>\n",
       "      <td>106380000</td>\n",
       "    </tr>\n",
       "    <tr>\n",
       "      <th>3</th>\n",
       "      <td>6/28/2016</td>\n",
       "      <td>17190.50977</td>\n",
       "      <td>17409.72070</td>\n",
       "      <td>17190.50977</td>\n",
       "      <td>17409.72070</td>\n",
       "      <td>112190000</td>\n",
       "    </tr>\n",
       "    <tr>\n",
       "      <th>4</th>\n",
       "      <td>6/27/2016</td>\n",
       "      <td>17355.21094</td>\n",
       "      <td>17355.21094</td>\n",
       "      <td>17063.08008</td>\n",
       "      <td>17140.24023</td>\n",
       "      <td>138740000</td>\n",
       "    </tr>\n",
       "  </tbody>\n",
       "</table>\n",
       "</div>"
      ],
      "text/plain": [
       "        Date         Open         High          Low        Close     Volume\n",
       "0   7/1/2016  17924.24023  18002.38086  17916.91016  17949.36914   82160000\n",
       "1  6/30/2016  17712.75977  17930.60938  17711.80078  17929.99023  133030000\n",
       "2  6/29/2016  17456.01953  17704.50977  17456.01953  17694.67969  106380000\n",
       "3  6/28/2016  17190.50977  17409.72070  17190.50977  17409.72070  112190000\n",
       "4  6/27/2016  17355.21094  17355.21094  17063.08008  17140.24023  138740000"
      ]
     },
     "execution_count": 6,
     "metadata": {},
     "output_type": "execute_result"
    }
   ],
   "source": [
    "djia_df.head()"
   ]
  },
  {
   "cell_type": "code",
   "execution_count": 7,
   "metadata": {},
   "outputs": [
    {
     "data": {
      "text/html": [
       "<div>\n",
       "<style scoped>\n",
       "    .dataframe tbody tr th:only-of-type {\n",
       "        vertical-align: middle;\n",
       "    }\n",
       "\n",
       "    .dataframe tbody tr th {\n",
       "        vertical-align: top;\n",
       "    }\n",
       "\n",
       "    .dataframe thead th {\n",
       "        text-align: right;\n",
       "    }\n",
       "</style>\n",
       "<table border=\"1\" class=\"dataframe\">\n",
       "  <thead>\n",
       "    <tr style=\"text-align: right;\">\n",
       "      <th></th>\n",
       "      <th>Date</th>\n",
       "      <th>News</th>\n",
       "    </tr>\n",
       "  </thead>\n",
       "  <tbody>\n",
       "    <tr>\n",
       "      <th>0</th>\n",
       "      <td>2016-07-01</td>\n",
       "      <td>A 117-year-old woman in Mexico City finally re...</td>\n",
       "    </tr>\n",
       "    <tr>\n",
       "      <th>1</th>\n",
       "      <td>2016-07-01</td>\n",
       "      <td>IMF chief backs Athens as permanent Olympic host</td>\n",
       "    </tr>\n",
       "    <tr>\n",
       "      <th>2</th>\n",
       "      <td>2016-07-01</td>\n",
       "      <td>The president of France says if Brexit won, so...</td>\n",
       "    </tr>\n",
       "    <tr>\n",
       "      <th>3</th>\n",
       "      <td>2016-07-01</td>\n",
       "      <td>British Man Who Must Give Police 24 Hours' Not...</td>\n",
       "    </tr>\n",
       "    <tr>\n",
       "      <th>4</th>\n",
       "      <td>2016-07-01</td>\n",
       "      <td>100+ Nobel laureates urge Greenpeace to stop o...</td>\n",
       "    </tr>\n",
       "  </tbody>\n",
       "</table>\n",
       "</div>"
      ],
      "text/plain": [
       "         Date                                               News\n",
       "0  2016-07-01  A 117-year-old woman in Mexico City finally re...\n",
       "1  2016-07-01   IMF chief backs Athens as permanent Olympic host\n",
       "2  2016-07-01  The president of France says if Brexit won, so...\n",
       "3  2016-07-01  British Man Who Must Give Police 24 Hours' Not...\n",
       "4  2016-07-01  100+ Nobel laureates urge Greenpeace to stop o..."
      ]
     },
     "execution_count": 7,
     "metadata": {},
     "output_type": "execute_result"
    }
   ],
   "source": [
    "news_df.head()"
   ]
  },
  {
   "cell_type": "code",
   "execution_count": 12,
   "metadata": {},
   "outputs": [],
   "source": [
    "dija_df['Date'] = pd.to_datetime(dija_df['Date'])\n",
    "news_df_agg['Date'] = pd.to_datetime(news_df_agg['Date'])\n",
    "merged_df = pd.merge(dija_df, news_df_agg, on='Date', how='left')\n"
   ]
  },
  {
   "cell_type": "markdown",
   "metadata": {
    "id": "hZceBEFuiGpI"
   },
   "source": [
    "## Feauture Extraction\n",
    "\n",
    "\n",
    "1. DIJA Table\n",
    "Apply a lag of one, up to 7 days to each feature, creating a set of features representing the index price from the previous 7 days. To maintain dataset integrity, eliminate any resulting missing values at the beginning of the dataset.\n",
    "\n",
    "2. Reddit News Table\n",
    "Create a numeric representation for the news (for example average embedding or average sentiment). <b> You must create lags of the news features as well since we will not know the news for the future. </b>\n",
    "\n",
    "Hint: Use `df['column_name'].shift(period)`. Check the documentation at https://pandas.pydata.org/docs/reference/api/pandas.DataFrame.shift.html."
   ]
  },
  {
   "cell_type": "code",
   "execution_count": 13,
   "metadata": {
    "id": "S-xymWvjTFt-"
   },
   "outputs": [],
   "source": [
    "for i in range(1, 8):\n",
    "    merged_df[f'Close_lag_{i}'] = merged_df['Close'].shift(i)\n",
    "    merged_df[f'Open_lag_{i}'] = merged_df['Open'].shift(i)\n",
    "    merged_df[f'High_lag_{i}'] = merged_df['High'].shift(i)\n",
    "    merged_df[f'Low_lag_{i}'] = merged_df['Low'].shift(i)\n",
    "    merged_df[f'Volume_lag_{i}'] = merged_df['Volume'].shift(i)"
   ]
  },
  {
   "cell_type": "code",
   "execution_count": 15,
   "metadata": {},
   "outputs": [
    {
     "name": "stdout",
     "output_type": "stream",
     "text": [
      "Collecting textblob\n",
      "  Downloading textblob-0.18.0.post0-py3-none-any.whl.metadata (4.5 kB)\n",
      "Collecting nltk>=3.8 (from textblob)\n",
      "  Downloading nltk-3.9.1-py3-none-any.whl.metadata (2.9 kB)\n",
      "Collecting click (from nltk>=3.8->textblob)\n",
      "  Downloading click-8.1.8-py3-none-any.whl.metadata (2.3 kB)\n",
      "Requirement already satisfied: joblib in c:\\users\\kosta\\appdata\\local\\programs\\python\\python312\\lib\\site-packages (from nltk>=3.8->textblob) (1.4.2)\n",
      "Collecting regex>=2021.8.3 (from nltk>=3.8->textblob)\n",
      "  Downloading regex-2024.11.6-cp312-cp312-win_amd64.whl.metadata (41 kB)\n",
      "Requirement already satisfied: tqdm in c:\\users\\kosta\\appdata\\local\\programs\\python\\python312\\lib\\site-packages (from nltk>=3.8->textblob) (4.67.1)\n",
      "Requirement already satisfied: colorama in c:\\users\\kosta\\appdata\\local\\programs\\python\\python312\\lib\\site-packages (from click->nltk>=3.8->textblob) (0.4.6)\n",
      "Downloading textblob-0.18.0.post0-py3-none-any.whl (626 kB)\n",
      "   ---------------------------------------- 0.0/626.3 kB ? eta -:--:--\n",
      "   --------------------------------------- 626.3/626.3 kB 11.4 MB/s eta 0:00:00\n",
      "Downloading nltk-3.9.1-py3-none-any.whl (1.5 MB)\n",
      "   ---------------------------------------- 0.0/1.5 MB ? eta -:--:--\n",
      "   ---------------------------------------- 1.5/1.5 MB 26.5 MB/s eta 0:00:00\n",
      "Downloading regex-2024.11.6-cp312-cp312-win_amd64.whl (273 kB)\n",
      "Downloading click-8.1.8-py3-none-any.whl (98 kB)\n",
      "Installing collected packages: regex, click, nltk, textblob\n",
      "Successfully installed click-8.1.8 nltk-3.9.1 regex-2024.11.6 textblob-0.18.0.post0\n"
     ]
    }
   ],
   "source": [
    "!pip install textblob"
   ]
  },
  {
   "cell_type": "code",
   "execution_count": 16,
   "metadata": {},
   "outputs": [],
   "source": [
    "from textblob import TextBlob\n",
    "\n",
    "def get_sentiment(text):\n",
    "    return TextBlob(text).sentiment.polarity\n",
    "\n",
    "merged_df['News_sentiment'] = merged_df['News'].apply(get_sentiment)\n",
    "\n",
    "for i in range(1, 8):\n",
    "    merged_df[f'News_sentiment_lag_{i}'] = merged_df['News_sentiment'].shift(i)"
   ]
  },
  {
   "cell_type": "code",
   "execution_count": 17,
   "metadata": {},
   "outputs": [
    {
     "data": {
      "text/html": [
       "<div>\n",
       "<style scoped>\n",
       "    .dataframe tbody tr th:only-of-type {\n",
       "        vertical-align: middle;\n",
       "    }\n",
       "\n",
       "    .dataframe tbody tr th {\n",
       "        vertical-align: top;\n",
       "    }\n",
       "\n",
       "    .dataframe thead th {\n",
       "        text-align: right;\n",
       "    }\n",
       "</style>\n",
       "<table border=\"1\" class=\"dataframe\">\n",
       "  <thead>\n",
       "    <tr style=\"text-align: right;\">\n",
       "      <th></th>\n",
       "      <th>Date</th>\n",
       "      <th>Open</th>\n",
       "      <th>High</th>\n",
       "      <th>Low</th>\n",
       "      <th>Close</th>\n",
       "      <th>Volume</th>\n",
       "      <th>News</th>\n",
       "      <th>Close_lag_1</th>\n",
       "      <th>Open_lag_1</th>\n",
       "      <th>High_lag_1</th>\n",
       "      <th>...</th>\n",
       "      <th>Low_lag_7</th>\n",
       "      <th>Volume_lag_7</th>\n",
       "      <th>News_sentiment</th>\n",
       "      <th>News_sentiment_lag_1</th>\n",
       "      <th>News_sentiment_lag_2</th>\n",
       "      <th>News_sentiment_lag_3</th>\n",
       "      <th>News_sentiment_lag_4</th>\n",
       "      <th>News_sentiment_lag_5</th>\n",
       "      <th>News_sentiment_lag_6</th>\n",
       "      <th>News_sentiment_lag_7</th>\n",
       "    </tr>\n",
       "  </thead>\n",
       "  <tbody>\n",
       "    <tr>\n",
       "      <th>0</th>\n",
       "      <td>2016-07-01</td>\n",
       "      <td>17924.24023</td>\n",
       "      <td>18002.38086</td>\n",
       "      <td>17916.91016</td>\n",
       "      <td>17949.36914</td>\n",
       "      <td>82160000</td>\n",
       "      <td>A 117-year-old woman in Mexico City finally re...</td>\n",
       "      <td>NaN</td>\n",
       "      <td>NaN</td>\n",
       "      <td>NaN</td>\n",
       "      <td>...</td>\n",
       "      <td>NaN</td>\n",
       "      <td>NaN</td>\n",
       "      <td>-0.035458</td>\n",
       "      <td>NaN</td>\n",
       "      <td>NaN</td>\n",
       "      <td>NaN</td>\n",
       "      <td>NaN</td>\n",
       "      <td>NaN</td>\n",
       "      <td>NaN</td>\n",
       "      <td>NaN</td>\n",
       "    </tr>\n",
       "    <tr>\n",
       "      <th>1</th>\n",
       "      <td>2016-06-30</td>\n",
       "      <td>17712.75977</td>\n",
       "      <td>17930.60938</td>\n",
       "      <td>17711.80078</td>\n",
       "      <td>17929.99023</td>\n",
       "      <td>133030000</td>\n",
       "      <td>Jamaica proposes marijuana dispensers for tour...</td>\n",
       "      <td>17949.36914</td>\n",
       "      <td>17924.24023</td>\n",
       "      <td>18002.38086</td>\n",
       "      <td>...</td>\n",
       "      <td>NaN</td>\n",
       "      <td>NaN</td>\n",
       "      <td>0.011243</td>\n",
       "      <td>-0.035458</td>\n",
       "      <td>NaN</td>\n",
       "      <td>NaN</td>\n",
       "      <td>NaN</td>\n",
       "      <td>NaN</td>\n",
       "      <td>NaN</td>\n",
       "      <td>NaN</td>\n",
       "    </tr>\n",
       "    <tr>\n",
       "      <th>2</th>\n",
       "      <td>2016-06-29</td>\n",
       "      <td>17456.01953</td>\n",
       "      <td>17704.50977</td>\n",
       "      <td>17456.01953</td>\n",
       "      <td>17694.67969</td>\n",
       "      <td>106380000</td>\n",
       "      <td>Explosion At Airport In Istanbul Yemeni former...</td>\n",
       "      <td>17929.99023</td>\n",
       "      <td>17712.75977</td>\n",
       "      <td>17930.60938</td>\n",
       "      <td>...</td>\n",
       "      <td>NaN</td>\n",
       "      <td>NaN</td>\n",
       "      <td>0.052622</td>\n",
       "      <td>0.011243</td>\n",
       "      <td>-0.035458</td>\n",
       "      <td>NaN</td>\n",
       "      <td>NaN</td>\n",
       "      <td>NaN</td>\n",
       "      <td>NaN</td>\n",
       "      <td>NaN</td>\n",
       "    </tr>\n",
       "    <tr>\n",
       "      <th>3</th>\n",
       "      <td>2016-06-28</td>\n",
       "      <td>17190.50977</td>\n",
       "      <td>17409.72070</td>\n",
       "      <td>17190.50977</td>\n",
       "      <td>17409.72070</td>\n",
       "      <td>112190000</td>\n",
       "      <td>2,500 Scientists To Australia: If You Want To ...</td>\n",
       "      <td>17694.67969</td>\n",
       "      <td>17456.01953</td>\n",
       "      <td>17704.50977</td>\n",
       "      <td>...</td>\n",
       "      <td>NaN</td>\n",
       "      <td>NaN</td>\n",
       "      <td>0.046560</td>\n",
       "      <td>0.052622</td>\n",
       "      <td>0.011243</td>\n",
       "      <td>-0.035458</td>\n",
       "      <td>NaN</td>\n",
       "      <td>NaN</td>\n",
       "      <td>NaN</td>\n",
       "      <td>NaN</td>\n",
       "    </tr>\n",
       "    <tr>\n",
       "      <th>4</th>\n",
       "      <td>2016-06-27</td>\n",
       "      <td>17355.21094</td>\n",
       "      <td>17355.21094</td>\n",
       "      <td>17063.08008</td>\n",
       "      <td>17140.24023</td>\n",
       "      <td>138740000</td>\n",
       "      <td>Barclays and RBS shares suspended from trading...</td>\n",
       "      <td>17409.72070</td>\n",
       "      <td>17190.50977</td>\n",
       "      <td>17409.72070</td>\n",
       "      <td>...</td>\n",
       "      <td>NaN</td>\n",
       "      <td>NaN</td>\n",
       "      <td>-0.014015</td>\n",
       "      <td>0.046560</td>\n",
       "      <td>0.052622</td>\n",
       "      <td>0.011243</td>\n",
       "      <td>-0.035458</td>\n",
       "      <td>NaN</td>\n",
       "      <td>NaN</td>\n",
       "      <td>NaN</td>\n",
       "    </tr>\n",
       "    <tr>\n",
       "      <th>...</th>\n",
       "      <td>...</td>\n",
       "      <td>...</td>\n",
       "      <td>...</td>\n",
       "      <td>...</td>\n",
       "      <td>...</td>\n",
       "      <td>...</td>\n",
       "      <td>...</td>\n",
       "      <td>...</td>\n",
       "      <td>...</td>\n",
       "      <td>...</td>\n",
       "      <td>...</td>\n",
       "      <td>...</td>\n",
       "      <td>...</td>\n",
       "      <td>...</td>\n",
       "      <td>...</td>\n",
       "      <td>...</td>\n",
       "      <td>...</td>\n",
       "      <td>...</td>\n",
       "      <td>...</td>\n",
       "      <td>...</td>\n",
       "      <td>...</td>\n",
       "    </tr>\n",
       "    <tr>\n",
       "      <th>1984</th>\n",
       "      <td>2008-08-14</td>\n",
       "      <td>11532.07031</td>\n",
       "      <td>11718.28027</td>\n",
       "      <td>11450.88965</td>\n",
       "      <td>11615.92969</td>\n",
       "      <td>159790000</td>\n",
       "      <td>b'All the experts admit that we should legalis...</td>\n",
       "      <td>11659.90039</td>\n",
       "      <td>11611.20996</td>\n",
       "      <td>11709.88965</td>\n",
       "      <td>...</td>\n",
       "      <td>11362.62988</td>\n",
       "      <td>148610000.0</td>\n",
       "      <td>0.040677</td>\n",
       "      <td>0.047756</td>\n",
       "      <td>0.016759</td>\n",
       "      <td>-0.025814</td>\n",
       "      <td>0.038384</td>\n",
       "      <td>0.049074</td>\n",
       "      <td>0.080114</td>\n",
       "      <td>-0.083212</td>\n",
       "    </tr>\n",
       "    <tr>\n",
       "      <th>1985</th>\n",
       "      <td>2008-08-13</td>\n",
       "      <td>11632.80957</td>\n",
       "      <td>11633.78027</td>\n",
       "      <td>11453.33984</td>\n",
       "      <td>11532.95996</td>\n",
       "      <td>182550000</td>\n",
       "      <td>b' U.S. refuses Israel weapons to attack Iran:...</td>\n",
       "      <td>11615.92969</td>\n",
       "      <td>11532.07031</td>\n",
       "      <td>11718.28027</td>\n",
       "      <td>...</td>\n",
       "      <td>11426.79004</td>\n",
       "      <td>138790000.0</td>\n",
       "      <td>0.011398</td>\n",
       "      <td>0.040677</td>\n",
       "      <td>0.047756</td>\n",
       "      <td>0.016759</td>\n",
       "      <td>-0.025814</td>\n",
       "      <td>0.038384</td>\n",
       "      <td>0.049074</td>\n",
       "      <td>0.080114</td>\n",
       "    </tr>\n",
       "    <tr>\n",
       "      <th>1986</th>\n",
       "      <td>2008-08-12</td>\n",
       "      <td>11781.70020</td>\n",
       "      <td>11782.34961</td>\n",
       "      <td>11601.51953</td>\n",
       "      <td>11642.46973</td>\n",
       "      <td>173590000</td>\n",
       "      <td>b'Remember that adorable 9-year-old who sang a...</td>\n",
       "      <td>11532.95996</td>\n",
       "      <td>11632.80957</td>\n",
       "      <td>11633.78027</td>\n",
       "      <td>...</td>\n",
       "      <td>11315.57031</td>\n",
       "      <td>130020000.0</td>\n",
       "      <td>-0.046530</td>\n",
       "      <td>0.011398</td>\n",
       "      <td>0.040677</td>\n",
       "      <td>0.047756</td>\n",
       "      <td>0.016759</td>\n",
       "      <td>-0.025814</td>\n",
       "      <td>0.038384</td>\n",
       "      <td>0.049074</td>\n",
       "    </tr>\n",
       "    <tr>\n",
       "      <th>1987</th>\n",
       "      <td>2008-08-11</td>\n",
       "      <td>11729.66992</td>\n",
       "      <td>11867.11035</td>\n",
       "      <td>11675.53027</td>\n",
       "      <td>11782.34961</td>\n",
       "      <td>183190000</td>\n",
       "      <td>b'Why wont America and Nato help us? If they w...</td>\n",
       "      <td>11642.46973</td>\n",
       "      <td>11781.70020</td>\n",
       "      <td>11782.34961</td>\n",
       "      <td>...</td>\n",
       "      <td>11290.58008</td>\n",
       "      <td>144880000.0</td>\n",
       "      <td>0.121956</td>\n",
       "      <td>-0.046530</td>\n",
       "      <td>0.011398</td>\n",
       "      <td>0.040677</td>\n",
       "      <td>0.047756</td>\n",
       "      <td>0.016759</td>\n",
       "      <td>-0.025814</td>\n",
       "      <td>0.038384</td>\n",
       "    </tr>\n",
       "    <tr>\n",
       "      <th>1988</th>\n",
       "      <td>2008-08-08</td>\n",
       "      <td>11432.08984</td>\n",
       "      <td>11759.95996</td>\n",
       "      <td>11388.04004</td>\n",
       "      <td>11734.32031</td>\n",
       "      <td>212830000</td>\n",
       "      <td>b\"Georgia 'downs two Russian warplanes' as cou...</td>\n",
       "      <td>11782.34961</td>\n",
       "      <td>11729.66992</td>\n",
       "      <td>11867.11035</td>\n",
       "      <td>...</td>\n",
       "      <td>11318.50000</td>\n",
       "      <td>171580000.0</td>\n",
       "      <td>-0.048568</td>\n",
       "      <td>0.121956</td>\n",
       "      <td>-0.046530</td>\n",
       "      <td>0.011398</td>\n",
       "      <td>0.040677</td>\n",
       "      <td>0.047756</td>\n",
       "      <td>0.016759</td>\n",
       "      <td>-0.025814</td>\n",
       "    </tr>\n",
       "  </tbody>\n",
       "</table>\n",
       "<p>1989 rows × 50 columns</p>\n",
       "</div>"
      ],
      "text/plain": [
       "           Date         Open         High          Low        Close  \\\n",
       "0    2016-07-01  17924.24023  18002.38086  17916.91016  17949.36914   \n",
       "1    2016-06-30  17712.75977  17930.60938  17711.80078  17929.99023   \n",
       "2    2016-06-29  17456.01953  17704.50977  17456.01953  17694.67969   \n",
       "3    2016-06-28  17190.50977  17409.72070  17190.50977  17409.72070   \n",
       "4    2016-06-27  17355.21094  17355.21094  17063.08008  17140.24023   \n",
       "...         ...          ...          ...          ...          ...   \n",
       "1984 2008-08-14  11532.07031  11718.28027  11450.88965  11615.92969   \n",
       "1985 2008-08-13  11632.80957  11633.78027  11453.33984  11532.95996   \n",
       "1986 2008-08-12  11781.70020  11782.34961  11601.51953  11642.46973   \n",
       "1987 2008-08-11  11729.66992  11867.11035  11675.53027  11782.34961   \n",
       "1988 2008-08-08  11432.08984  11759.95996  11388.04004  11734.32031   \n",
       "\n",
       "         Volume                                               News  \\\n",
       "0      82160000  A 117-year-old woman in Mexico City finally re...   \n",
       "1     133030000  Jamaica proposes marijuana dispensers for tour...   \n",
       "2     106380000  Explosion At Airport In Istanbul Yemeni former...   \n",
       "3     112190000  2,500 Scientists To Australia: If You Want To ...   \n",
       "4     138740000  Barclays and RBS shares suspended from trading...   \n",
       "...         ...                                                ...   \n",
       "1984  159790000  b'All the experts admit that we should legalis...   \n",
       "1985  182550000  b' U.S. refuses Israel weapons to attack Iran:...   \n",
       "1986  173590000  b'Remember that adorable 9-year-old who sang a...   \n",
       "1987  183190000  b'Why wont America and Nato help us? If they w...   \n",
       "1988  212830000  b\"Georgia 'downs two Russian warplanes' as cou...   \n",
       "\n",
       "      Close_lag_1   Open_lag_1   High_lag_1  ...    Low_lag_7  Volume_lag_7  \\\n",
       "0             NaN          NaN          NaN  ...          NaN           NaN   \n",
       "1     17949.36914  17924.24023  18002.38086  ...          NaN           NaN   \n",
       "2     17929.99023  17712.75977  17930.60938  ...          NaN           NaN   \n",
       "3     17694.67969  17456.01953  17704.50977  ...          NaN           NaN   \n",
       "4     17409.72070  17190.50977  17409.72070  ...          NaN           NaN   \n",
       "...           ...          ...          ...  ...          ...           ...   \n",
       "1984  11659.90039  11611.20996  11709.88965  ...  11362.62988   148610000.0   \n",
       "1985  11615.92969  11532.07031  11718.28027  ...  11426.79004   138790000.0   \n",
       "1986  11532.95996  11632.80957  11633.78027  ...  11315.57031   130020000.0   \n",
       "1987  11642.46973  11781.70020  11782.34961  ...  11290.58008   144880000.0   \n",
       "1988  11782.34961  11729.66992  11867.11035  ...  11318.50000   171580000.0   \n",
       "\n",
       "      News_sentiment  News_sentiment_lag_1  News_sentiment_lag_2  \\\n",
       "0          -0.035458                   NaN                   NaN   \n",
       "1           0.011243             -0.035458                   NaN   \n",
       "2           0.052622              0.011243             -0.035458   \n",
       "3           0.046560              0.052622              0.011243   \n",
       "4          -0.014015              0.046560              0.052622   \n",
       "...              ...                   ...                   ...   \n",
       "1984        0.040677              0.047756              0.016759   \n",
       "1985        0.011398              0.040677              0.047756   \n",
       "1986       -0.046530              0.011398              0.040677   \n",
       "1987        0.121956             -0.046530              0.011398   \n",
       "1988       -0.048568              0.121956             -0.046530   \n",
       "\n",
       "      News_sentiment_lag_3  News_sentiment_lag_4  News_sentiment_lag_5  \\\n",
       "0                      NaN                   NaN                   NaN   \n",
       "1                      NaN                   NaN                   NaN   \n",
       "2                      NaN                   NaN                   NaN   \n",
       "3                -0.035458                   NaN                   NaN   \n",
       "4                 0.011243             -0.035458                   NaN   \n",
       "...                    ...                   ...                   ...   \n",
       "1984             -0.025814              0.038384              0.049074   \n",
       "1985              0.016759             -0.025814              0.038384   \n",
       "1986              0.047756              0.016759             -0.025814   \n",
       "1987              0.040677              0.047756              0.016759   \n",
       "1988              0.011398              0.040677              0.047756   \n",
       "\n",
       "      News_sentiment_lag_6  News_sentiment_lag_7  \n",
       "0                      NaN                   NaN  \n",
       "1                      NaN                   NaN  \n",
       "2                      NaN                   NaN  \n",
       "3                      NaN                   NaN  \n",
       "4                      NaN                   NaN  \n",
       "...                    ...                   ...  \n",
       "1984              0.080114             -0.083212  \n",
       "1985              0.049074              0.080114  \n",
       "1986              0.038384              0.049074  \n",
       "1987             -0.025814              0.038384  \n",
       "1988              0.016759             -0.025814  \n",
       "\n",
       "[1989 rows x 50 columns]"
      ]
     },
     "execution_count": 17,
     "metadata": {},
     "output_type": "execute_result"
    }
   ],
   "source": [
    "merged_df"
   ]
  },
  {
   "cell_type": "code",
   "execution_count": 18,
   "metadata": {},
   "outputs": [],
   "source": [
    "merged_df = merged_df.dropna()"
   ]
  },
  {
   "cell_type": "code",
   "execution_count": 19,
   "metadata": {},
   "outputs": [
    {
     "data": {
      "text/html": [
       "<div>\n",
       "<style scoped>\n",
       "    .dataframe tbody tr th:only-of-type {\n",
       "        vertical-align: middle;\n",
       "    }\n",
       "\n",
       "    .dataframe tbody tr th {\n",
       "        vertical-align: top;\n",
       "    }\n",
       "\n",
       "    .dataframe thead th {\n",
       "        text-align: right;\n",
       "    }\n",
       "</style>\n",
       "<table border=\"1\" class=\"dataframe\">\n",
       "  <thead>\n",
       "    <tr style=\"text-align: right;\">\n",
       "      <th></th>\n",
       "      <th>Date</th>\n",
       "      <th>Open</th>\n",
       "      <th>High</th>\n",
       "      <th>Low</th>\n",
       "      <th>Close</th>\n",
       "      <th>Volume</th>\n",
       "      <th>News</th>\n",
       "      <th>Close_lag_1</th>\n",
       "      <th>Open_lag_1</th>\n",
       "      <th>High_lag_1</th>\n",
       "      <th>...</th>\n",
       "      <th>Low_lag_7</th>\n",
       "      <th>Volume_lag_7</th>\n",
       "      <th>News_sentiment</th>\n",
       "      <th>News_sentiment_lag_1</th>\n",
       "      <th>News_sentiment_lag_2</th>\n",
       "      <th>News_sentiment_lag_3</th>\n",
       "      <th>News_sentiment_lag_4</th>\n",
       "      <th>News_sentiment_lag_5</th>\n",
       "      <th>News_sentiment_lag_6</th>\n",
       "      <th>News_sentiment_lag_7</th>\n",
       "    </tr>\n",
       "  </thead>\n",
       "  <tbody>\n",
       "    <tr>\n",
       "      <th>7</th>\n",
       "      <td>2016-06-22</td>\n",
       "      <td>17832.66992</td>\n",
       "      <td>17920.16016</td>\n",
       "      <td>17770.35938</td>\n",
       "      <td>17780.83008</td>\n",
       "      <td>89440000</td>\n",
       "      <td>German government agrees to ban fracking indef...</td>\n",
       "      <td>18011.07031</td>\n",
       "      <td>17844.10938</td>\n",
       "      <td>18011.07031</td>\n",
       "      <td>...</td>\n",
       "      <td>17916.91016</td>\n",
       "      <td>82160000.0</td>\n",
       "      <td>0.006428</td>\n",
       "      <td>0.086216</td>\n",
       "      <td>0.037381</td>\n",
       "      <td>-0.014015</td>\n",
       "      <td>0.046560</td>\n",
       "      <td>0.052622</td>\n",
       "      <td>0.011243</td>\n",
       "      <td>-0.035458</td>\n",
       "    </tr>\n",
       "    <tr>\n",
       "      <th>8</th>\n",
       "      <td>2016-06-21</td>\n",
       "      <td>17827.33008</td>\n",
       "      <td>17877.83984</td>\n",
       "      <td>17799.80078</td>\n",
       "      <td>17829.73047</td>\n",
       "      <td>85130000</td>\n",
       "      <td>An Australian athlete who has competed in six ...</td>\n",
       "      <td>17780.83008</td>\n",
       "      <td>17832.66992</td>\n",
       "      <td>17920.16016</td>\n",
       "      <td>...</td>\n",
       "      <td>17711.80078</td>\n",
       "      <td>133030000.0</td>\n",
       "      <td>0.072323</td>\n",
       "      <td>0.006428</td>\n",
       "      <td>0.086216</td>\n",
       "      <td>0.037381</td>\n",
       "      <td>-0.014015</td>\n",
       "      <td>0.046560</td>\n",
       "      <td>0.052622</td>\n",
       "      <td>0.011243</td>\n",
       "    </tr>\n",
       "    <tr>\n",
       "      <th>9</th>\n",
       "      <td>2016-06-20</td>\n",
       "      <td>17736.86914</td>\n",
       "      <td>17946.35938</td>\n",
       "      <td>17736.86914</td>\n",
       "      <td>17804.86914</td>\n",
       "      <td>99380000</td>\n",
       "      <td>A staggering 87 percent of Venezuelans say the...</td>\n",
       "      <td>17829.73047</td>\n",
       "      <td>17827.33008</td>\n",
       "      <td>17877.83984</td>\n",
       "      <td>...</td>\n",
       "      <td>17456.01953</td>\n",
       "      <td>106380000.0</td>\n",
       "      <td>0.046463</td>\n",
       "      <td>0.072323</td>\n",
       "      <td>0.006428</td>\n",
       "      <td>0.086216</td>\n",
       "      <td>0.037381</td>\n",
       "      <td>-0.014015</td>\n",
       "      <td>0.046560</td>\n",
       "      <td>0.052622</td>\n",
       "    </tr>\n",
       "    <tr>\n",
       "      <th>10</th>\n",
       "      <td>2016-06-17</td>\n",
       "      <td>17733.43945</td>\n",
       "      <td>17733.43945</td>\n",
       "      <td>17602.77930</td>\n",
       "      <td>17675.16016</td>\n",
       "      <td>248680000</td>\n",
       "      <td>MP Jo Cox dead after shooting attack Saudi Ara...</td>\n",
       "      <td>17804.86914</td>\n",
       "      <td>17736.86914</td>\n",
       "      <td>17946.35938</td>\n",
       "      <td>...</td>\n",
       "      <td>17190.50977</td>\n",
       "      <td>112190000.0</td>\n",
       "      <td>-0.034244</td>\n",
       "      <td>0.046463</td>\n",
       "      <td>0.072323</td>\n",
       "      <td>0.006428</td>\n",
       "      <td>0.086216</td>\n",
       "      <td>0.037381</td>\n",
       "      <td>-0.014015</td>\n",
       "      <td>0.046560</td>\n",
       "    </tr>\n",
       "    <tr>\n",
       "      <th>11</th>\n",
       "      <td>2016-06-16</td>\n",
       "      <td>17602.23047</td>\n",
       "      <td>17754.91016</td>\n",
       "      <td>17471.28906</td>\n",
       "      <td>17733.09961</td>\n",
       "      <td>91950000</td>\n",
       "      <td>Decriminalisation Call As 'War On Drugs' Fails...</td>\n",
       "      <td>17675.16016</td>\n",
       "      <td>17733.43945</td>\n",
       "      <td>17733.43945</td>\n",
       "      <td>...</td>\n",
       "      <td>17063.08008</td>\n",
       "      <td>138740000.0</td>\n",
       "      <td>0.064877</td>\n",
       "      <td>-0.034244</td>\n",
       "      <td>0.046463</td>\n",
       "      <td>0.072323</td>\n",
       "      <td>0.006428</td>\n",
       "      <td>0.086216</td>\n",
       "      <td>0.037381</td>\n",
       "      <td>-0.014015</td>\n",
       "    </tr>\n",
       "  </tbody>\n",
       "</table>\n",
       "<p>5 rows × 50 columns</p>\n",
       "</div>"
      ],
      "text/plain": [
       "         Date         Open         High          Low        Close     Volume  \\\n",
       "7  2016-06-22  17832.66992  17920.16016  17770.35938  17780.83008   89440000   \n",
       "8  2016-06-21  17827.33008  17877.83984  17799.80078  17829.73047   85130000   \n",
       "9  2016-06-20  17736.86914  17946.35938  17736.86914  17804.86914   99380000   \n",
       "10 2016-06-17  17733.43945  17733.43945  17602.77930  17675.16016  248680000   \n",
       "11 2016-06-16  17602.23047  17754.91016  17471.28906  17733.09961   91950000   \n",
       "\n",
       "                                                 News  Close_lag_1  \\\n",
       "7   German government agrees to ban fracking indef...  18011.07031   \n",
       "8   An Australian athlete who has competed in six ...  17780.83008   \n",
       "9   A staggering 87 percent of Venezuelans say the...  17829.73047   \n",
       "10  MP Jo Cox dead after shooting attack Saudi Ara...  17804.86914   \n",
       "11  Decriminalisation Call As 'War On Drugs' Fails...  17675.16016   \n",
       "\n",
       "     Open_lag_1   High_lag_1  ...    Low_lag_7  Volume_lag_7  News_sentiment  \\\n",
       "7   17844.10938  18011.07031  ...  17916.91016    82160000.0        0.006428   \n",
       "8   17832.66992  17920.16016  ...  17711.80078   133030000.0        0.072323   \n",
       "9   17827.33008  17877.83984  ...  17456.01953   106380000.0        0.046463   \n",
       "10  17736.86914  17946.35938  ...  17190.50977   112190000.0       -0.034244   \n",
       "11  17733.43945  17733.43945  ...  17063.08008   138740000.0        0.064877   \n",
       "\n",
       "    News_sentiment_lag_1  News_sentiment_lag_2  News_sentiment_lag_3  \\\n",
       "7               0.086216              0.037381             -0.014015   \n",
       "8               0.006428              0.086216              0.037381   \n",
       "9               0.072323              0.006428              0.086216   \n",
       "10              0.046463              0.072323              0.006428   \n",
       "11             -0.034244              0.046463              0.072323   \n",
       "\n",
       "    News_sentiment_lag_4  News_sentiment_lag_5  News_sentiment_lag_6  \\\n",
       "7               0.046560              0.052622              0.011243   \n",
       "8              -0.014015              0.046560              0.052622   \n",
       "9               0.037381             -0.014015              0.046560   \n",
       "10              0.086216              0.037381             -0.014015   \n",
       "11              0.006428              0.086216              0.037381   \n",
       "\n",
       "    News_sentiment_lag_7  \n",
       "7              -0.035458  \n",
       "8               0.011243  \n",
       "9               0.052622  \n",
       "10              0.046560  \n",
       "11             -0.014015  \n",
       "\n",
       "[5 rows x 50 columns]"
      ]
     },
     "execution_count": 19,
     "metadata": {},
     "output_type": "execute_result"
    }
   ],
   "source": [
    "merged_df.head()"
   ]
  },
  {
   "cell_type": "markdown",
   "metadata": {
    "id": "tls69_PrbJKW"
   },
   "source": [
    "## Dataset Splitting\n",
    "Partition the dataset into training and testing sets with an 80:20 ratio.\n",
    "\n",
    "**WARNING: DO NOT SHUFFLE THE DATASET.**\n",
    "\n"
   ]
  },
  {
   "cell_type": "code",
   "execution_count": 20,
   "metadata": {
    "id": "PjGGGMxebeoB"
   },
   "outputs": [],
   "source": [
    "from sklearn.model_selection import train_test_split\n",
    "\n",
    "X = merged_df.drop(columns=['Date', 'Close', 'News'])\n",
    "y = merged_df['Close']\n",
    "\n",
    "X_train, X_test, y_train, y_test = train_test_split(X, y, test_size=0.2, shuffle=False)"
   ]
  },
  {
   "cell_type": "markdown",
   "metadata": {
    "id": "lwhDHS-nRRhW"
   },
   "source": [
    "## Feauture Scaling\n",
    "Scale the extracted features using an appropriate scaler if needed."
   ]
  },
  {
   "cell_type": "code",
   "execution_count": 21,
   "metadata": {
    "id": "xlvbs68wRaVj"
   },
   "outputs": [],
   "source": [
    "from sklearn.preprocessing import MinMaxScaler\n",
    "\n",
    "scaler = MinMaxScaler()\n",
    "\n",
    "X_train_scaled = scaler.fit_transform(X_train)\n",
    "X_test_scaled = scaler.transform(X_test)"
   ]
  },
  {
   "cell_type": "markdown",
   "metadata": {
    "id": "xI53ZRmfW8WG"
   },
   "source": [
    "## Feature Reshaping"
   ]
  },
  {
   "cell_type": "markdown",
   "metadata": {
    "id": "sK9naW8AXVaU"
   },
   "source": [
    "Reshape the feature dimensions into the shape `(samples, timesteps, features)`."
   ]
  },
  {
   "cell_type": "code",
   "execution_count": 23,
   "metadata": {
    "id": "3D-1-V9bW8tl"
   },
   "outputs": [],
   "source": [
    "import numpy as np\n",
    "\n",
    "def reshape_data(data, timesteps=7):\n",
    "    X, y = [], []\n",
    "    for i in range(timesteps, len(data)):\n",
    "        X.append(data[i-timesteps:i, :])\n",
    "        y.append(data[i, 0])\n",
    "    return np.array(X), np.array(y)\n",
    "\n",
    "X_train, y_train = reshape_data(X_train_scaled)\n",
    "X_test, y_test = reshape_data(X_test_scaled)"
   ]
  },
  {
   "cell_type": "markdown",
   "metadata": {
    "id": "VIkAR1Hibiwr"
   },
   "source": [
    "## Long Short-Term Memory (LSTM) Network\n"
   ]
  },
  {
   "cell_type": "markdown",
   "metadata": {
    "id": "qWn1pafKbnxH"
   },
   "source": [
    "Define the forecasting model using the **Keras Sequential API** (`keras.models.Sequential`), incorporating one or more LSTM layers along with additional relevant layers (`keras.layers`). Be cautious when specifying the configuration of the final layer to ensure proper model output for the forecasting task."
   ]
  },
  {
   "cell_type": "code",
   "execution_count": 24,
   "metadata": {
    "id": "IXFIrQthbnkb"
   },
   "outputs": [
    {
     "name": "stderr",
     "output_type": "stream",
     "text": [
      "C:\\Users\\kosta\\AppData\\Local\\Programs\\Python\\Python312\\Lib\\site-packages\\keras\\src\\layers\\rnn\\rnn.py:204: UserWarning: Do not pass an `input_shape`/`input_dim` argument to a layer. When using Sequential models, prefer using an `Input(shape)` object as the first layer in the model instead.\n",
      "  super().__init__(**kwargs)\n"
     ]
    }
   ],
   "source": [
    "from keras.models import Sequential\n",
    "from keras.layers import LSTM, Dense, Dropout\n",
    "\n",
    "model = Sequential()\n",
    "model.add(LSTM(units=50, return_sequences=True, input_shape=(X_train.shape[1], X_train.shape[2])))\n",
    "model.add(Dropout(0.2))\n",
    "model.add(LSTM(units=50, return_sequences=False))\n",
    "model.add(Dropout(0.2))\n",
    "model.add(Dense(units=1))"
   ]
  },
  {
   "cell_type": "markdown",
   "metadata": {
    "id": "tAM-g59xSO4V"
   },
   "source": [
    "Compile the previously defined model specifying **loss function** (`keras.losses`), **optimizer** (`keras.optimizers`) and **evaluation metrics** (`keras.metics`)."
   ]
  },
  {
   "cell_type": "code",
   "execution_count": 26,
   "metadata": {
    "id": "ZBtCCy9VSQpF"
   },
   "outputs": [],
   "source": [
    "model.compile(optimizer='adam', loss='mean_squared_error', metrics=['accuracy'])"
   ]
  },
  {
   "cell_type": "markdown",
   "metadata": {
    "id": "lygUzi0QTXgZ"
   },
   "source": [
    "Train the model on the training set, specifying the **batch size** and **number of epochs** for the training process. Allocate 20% of the samples for **validation**, and ensure that the dataset remains **unshuffled** during training."
   ]
  },
  {
   "cell_type": "code",
   "execution_count": 27,
   "metadata": {
    "id": "Fkj3k5p8TXEF"
   },
   "outputs": [
    {
     "name": "stdout",
     "output_type": "stream",
     "text": [
      "Epoch 1/50\n",
      "\u001b[1m40/40\u001b[0m \u001b[32m━━━━━━━━━━━━━━━━━━━━\u001b[0m\u001b[37m\u001b[0m \u001b[1m4s\u001b[0m 18ms/step - accuracy: 0.0012 - loss: 0.2356 - val_accuracy: 0.0032 - val_loss: 0.0017\n",
      "Epoch 2/50\n",
      "\u001b[1m40/40\u001b[0m \u001b[32m━━━━━━━━━━━━━━━━━━━━\u001b[0m\u001b[37m\u001b[0m \u001b[1m0s\u001b[0m 7ms/step - accuracy: 0.0012 - loss: 0.0766 - val_accuracy: 0.0032 - val_loss: 0.0015\n",
      "Epoch 3/50\n",
      "\u001b[1m40/40\u001b[0m \u001b[32m━━━━━━━━━━━━━━━━━━━━\u001b[0m\u001b[37m\u001b[0m \u001b[1m0s\u001b[0m 7ms/step - accuracy: 0.0012 - loss: 0.0787 - val_accuracy: 0.0032 - val_loss: 0.0023\n",
      "Epoch 4/50\n",
      "\u001b[1m40/40\u001b[0m \u001b[32m━━━━━━━━━━━━━━━━━━━━\u001b[0m\u001b[37m\u001b[0m \u001b[1m0s\u001b[0m 6ms/step - accuracy: 0.0012 - loss: 0.1095 - val_accuracy: 0.0032 - val_loss: 0.0029\n",
      "Epoch 5/50\n",
      "\u001b[1m40/40\u001b[0m \u001b[32m━━━━━━━━━━━━━━━━━━━━\u001b[0m\u001b[37m\u001b[0m \u001b[1m0s\u001b[0m 7ms/step - accuracy: 0.0012 - loss: 0.0950 - val_accuracy: 0.0032 - val_loss: 0.0046\n",
      "Epoch 6/50\n",
      "\u001b[1m40/40\u001b[0m \u001b[32m━━━━━━━━━━━━━━━━━━━━\u001b[0m\u001b[37m\u001b[0m \u001b[1m0s\u001b[0m 7ms/step - accuracy: 0.0012 - loss: 0.0796 - val_accuracy: 0.0032 - val_loss: 0.0030\n",
      "Epoch 7/50\n",
      "\u001b[1m40/40\u001b[0m \u001b[32m━━━━━━━━━━━━━━━━━━━━\u001b[0m\u001b[37m\u001b[0m \u001b[1m0s\u001b[0m 6ms/step - accuracy: 0.0012 - loss: 0.0684 - val_accuracy: 0.0032 - val_loss: 0.0045\n",
      "Epoch 8/50\n",
      "\u001b[1m40/40\u001b[0m \u001b[32m━━━━━━━━━━━━━━━━━━━━\u001b[0m\u001b[37m\u001b[0m \u001b[1m0s\u001b[0m 7ms/step - accuracy: 0.0012 - loss: 0.0469 - val_accuracy: 0.0032 - val_loss: 0.0039\n",
      "Epoch 9/50\n",
      "\u001b[1m40/40\u001b[0m \u001b[32m━━━━━━━━━━━━━━━━━━━━\u001b[0m\u001b[37m\u001b[0m \u001b[1m0s\u001b[0m 7ms/step - accuracy: 0.0012 - loss: 0.0498 - val_accuracy: 0.0032 - val_loss: 0.0029\n",
      "Epoch 10/50\n",
      "\u001b[1m40/40\u001b[0m \u001b[32m━━━━━━━━━━━━━━━━━━━━\u001b[0m\u001b[37m\u001b[0m \u001b[1m0s\u001b[0m 6ms/step - accuracy: 0.0012 - loss: 0.0432 - val_accuracy: 0.0032 - val_loss: 0.0023\n",
      "Epoch 11/50\n",
      "\u001b[1m40/40\u001b[0m \u001b[32m━━━━━━━━━━━━━━━━━━━━\u001b[0m\u001b[37m\u001b[0m \u001b[1m0s\u001b[0m 7ms/step - accuracy: 0.0012 - loss: 0.0397 - val_accuracy: 0.0032 - val_loss: 0.0022\n",
      "Epoch 12/50\n",
      "\u001b[1m40/40\u001b[0m \u001b[32m━━━━━━━━━━━━━━━━━━━━\u001b[0m\u001b[37m\u001b[0m \u001b[1m0s\u001b[0m 10ms/step - accuracy: 0.0012 - loss: 0.0376 - val_accuracy: 0.0032 - val_loss: 0.0019\n",
      "Epoch 13/50\n",
      "\u001b[1m40/40\u001b[0m \u001b[32m━━━━━━━━━━━━━━━━━━━━\u001b[0m\u001b[37m\u001b[0m \u001b[1m0s\u001b[0m 7ms/step - accuracy: 0.0012 - loss: 0.0363 - val_accuracy: 0.0032 - val_loss: 0.0018\n",
      "Epoch 14/50\n",
      "\u001b[1m40/40\u001b[0m \u001b[32m━━━━━━━━━━━━━━━━━━━━\u001b[0m\u001b[37m\u001b[0m \u001b[1m0s\u001b[0m 7ms/step - accuracy: 0.0012 - loss: 0.0364 - val_accuracy: 0.0032 - val_loss: 0.0019\n",
      "Epoch 15/50\n",
      "\u001b[1m40/40\u001b[0m \u001b[32m━━━━━━━━━━━━━━━━━━━━\u001b[0m\u001b[37m\u001b[0m \u001b[1m0s\u001b[0m 8ms/step - accuracy: 0.0012 - loss: 0.0332 - val_accuracy: 0.0032 - val_loss: 0.0017\n",
      "Epoch 16/50\n",
      "\u001b[1m40/40\u001b[0m \u001b[32m━━━━━━━━━━━━━━━━━━━━\u001b[0m\u001b[37m\u001b[0m \u001b[1m0s\u001b[0m 7ms/step - accuracy: 0.0012 - loss: 0.0331 - val_accuracy: 0.0032 - val_loss: 0.0019\n",
      "Epoch 17/50\n",
      "\u001b[1m40/40\u001b[0m \u001b[32m━━━━━━━━━━━━━━━━━━━━\u001b[0m\u001b[37m\u001b[0m \u001b[1m0s\u001b[0m 7ms/step - accuracy: 0.0012 - loss: 0.0310 - val_accuracy: 0.0032 - val_loss: 0.0019\n",
      "Epoch 18/50\n",
      "\u001b[1m40/40\u001b[0m \u001b[32m━━━━━━━━━━━━━━━━━━━━\u001b[0m\u001b[37m\u001b[0m \u001b[1m0s\u001b[0m 7ms/step - accuracy: 0.0012 - loss: 0.0320 - val_accuracy: 0.0032 - val_loss: 0.0020\n",
      "Epoch 19/50\n",
      "\u001b[1m40/40\u001b[0m \u001b[32m━━━━━━━━━━━━━━━━━━━━\u001b[0m\u001b[37m\u001b[0m \u001b[1m0s\u001b[0m 7ms/step - accuracy: 0.0012 - loss: 0.0258 - val_accuracy: 0.0032 - val_loss: 0.0023\n",
      "Epoch 20/50\n",
      "\u001b[1m40/40\u001b[0m \u001b[32m━━━━━━━━━━━━━━━━━━━━\u001b[0m\u001b[37m\u001b[0m \u001b[1m0s\u001b[0m 7ms/step - accuracy: 0.0012 - loss: 0.0318 - val_accuracy: 0.0032 - val_loss: 0.0025\n",
      "Epoch 21/50\n",
      "\u001b[1m40/40\u001b[0m \u001b[32m━━━━━━━━━━━━━━━━━━━━\u001b[0m\u001b[37m\u001b[0m \u001b[1m0s\u001b[0m 7ms/step - accuracy: 0.0012 - loss: 0.0295 - val_accuracy: 0.0032 - val_loss: 0.0024\n",
      "Epoch 22/50\n",
      "\u001b[1m40/40\u001b[0m \u001b[32m━━━━━━━━━━━━━━━━━━━━\u001b[0m\u001b[37m\u001b[0m \u001b[1m0s\u001b[0m 7ms/step - accuracy: 0.0012 - loss: 0.0282 - val_accuracy: 0.0032 - val_loss: 0.0026\n",
      "Epoch 23/50\n",
      "\u001b[1m40/40\u001b[0m \u001b[32m━━━━━━━━━━━━━━━━━━━━\u001b[0m\u001b[37m\u001b[0m \u001b[1m0s\u001b[0m 7ms/step - accuracy: 0.0012 - loss: 0.0248 - val_accuracy: 0.0032 - val_loss: 0.0023\n",
      "Epoch 24/50\n",
      "\u001b[1m40/40\u001b[0m \u001b[32m━━━━━━━━━━━━━━━━━━━━\u001b[0m\u001b[37m\u001b[0m \u001b[1m0s\u001b[0m 7ms/step - accuracy: 0.0012 - loss: 0.0269 - val_accuracy: 0.0032 - val_loss: 0.0027\n",
      "Epoch 25/50\n",
      "\u001b[1m40/40\u001b[0m \u001b[32m━━━━━━━━━━━━━━━━━━━━\u001b[0m\u001b[37m\u001b[0m \u001b[1m0s\u001b[0m 7ms/step - accuracy: 0.0012 - loss: 0.0264 - val_accuracy: 0.0032 - val_loss: 0.0027\n",
      "Epoch 26/50\n",
      "\u001b[1m40/40\u001b[0m \u001b[32m━━━━━━━━━━━━━━━━━━━━\u001b[0m\u001b[37m\u001b[0m \u001b[1m0s\u001b[0m 7ms/step - accuracy: 0.0012 - loss: 0.0284 - val_accuracy: 0.0032 - val_loss: 0.0031\n",
      "Epoch 27/50\n",
      "\u001b[1m40/40\u001b[0m \u001b[32m━━━━━━━━━━━━━━━━━━━━\u001b[0m\u001b[37m\u001b[0m \u001b[1m0s\u001b[0m 7ms/step - accuracy: 0.0012 - loss: 0.0244 - val_accuracy: 0.0032 - val_loss: 0.0030\n",
      "Epoch 28/50\n",
      "\u001b[1m40/40\u001b[0m \u001b[32m━━━━━━━━━━━━━━━━━━━━\u001b[0m\u001b[37m\u001b[0m \u001b[1m0s\u001b[0m 7ms/step - accuracy: 0.0012 - loss: 0.0233 - val_accuracy: 0.0032 - val_loss: 0.0034\n",
      "Epoch 29/50\n",
      "\u001b[1m40/40\u001b[0m \u001b[32m━━━━━━━━━━━━━━━━━━━━\u001b[0m\u001b[37m\u001b[0m \u001b[1m0s\u001b[0m 7ms/step - accuracy: 0.0012 - loss: 0.0216 - val_accuracy: 0.0032 - val_loss: 0.0038\n",
      "Epoch 30/50\n",
      "\u001b[1m40/40\u001b[0m \u001b[32m━━━━━━━━━━━━━━━━━━━━\u001b[0m\u001b[37m\u001b[0m \u001b[1m0s\u001b[0m 6ms/step - accuracy: 0.0012 - loss: 0.0225 - val_accuracy: 0.0032 - val_loss: 0.0034\n",
      "Epoch 31/50\n",
      "\u001b[1m40/40\u001b[0m \u001b[32m━━━━━━━━━━━━━━━━━━━━\u001b[0m\u001b[37m\u001b[0m \u001b[1m0s\u001b[0m 7ms/step - accuracy: 0.0012 - loss: 0.0235 - val_accuracy: 0.0032 - val_loss: 0.0039\n",
      "Epoch 32/50\n",
      "\u001b[1m40/40\u001b[0m \u001b[32m━━━━━━━━━━━━━━━━━━━━\u001b[0m\u001b[37m\u001b[0m \u001b[1m0s\u001b[0m 7ms/step - accuracy: 0.0012 - loss: 0.0202 - val_accuracy: 0.0032 - val_loss: 0.0035\n",
      "Epoch 33/50\n",
      "\u001b[1m40/40\u001b[0m \u001b[32m━━━━━━━━━━━━━━━━━━━━\u001b[0m\u001b[37m\u001b[0m \u001b[1m0s\u001b[0m 7ms/step - accuracy: 0.0012 - loss: 0.0200 - val_accuracy: 0.0032 - val_loss: 0.0036\n",
      "Epoch 34/50\n",
      "\u001b[1m40/40\u001b[0m \u001b[32m━━━━━━━━━━━━━━━━━━━━\u001b[0m\u001b[37m\u001b[0m \u001b[1m0s\u001b[0m 7ms/step - accuracy: 0.0012 - loss: 0.0214 - val_accuracy: 0.0032 - val_loss: 0.0040\n",
      "Epoch 35/50\n",
      "\u001b[1m40/40\u001b[0m \u001b[32m━━━━━━━━━━━━━━━━━━━━\u001b[0m\u001b[37m\u001b[0m \u001b[1m0s\u001b[0m 10ms/step - accuracy: 0.0012 - loss: 0.0230 - val_accuracy: 0.0032 - val_loss: 0.0035\n",
      "Epoch 36/50\n",
      "\u001b[1m40/40\u001b[0m \u001b[32m━━━━━━━━━━━━━━━━━━━━\u001b[0m\u001b[37m\u001b[0m \u001b[1m0s\u001b[0m 6ms/step - accuracy: 0.0012 - loss: 0.0233 - val_accuracy: 0.0032 - val_loss: 0.0033\n",
      "Epoch 37/50\n",
      "\u001b[1m40/40\u001b[0m \u001b[32m━━━━━━━━━━━━━━━━━━━━\u001b[0m\u001b[37m\u001b[0m \u001b[1m0s\u001b[0m 7ms/step - accuracy: 0.0012 - loss: 0.0187 - val_accuracy: 0.0032 - val_loss: 0.0037\n",
      "Epoch 38/50\n",
      "\u001b[1m40/40\u001b[0m \u001b[32m━━━━━━━━━━━━━━━━━━━━\u001b[0m\u001b[37m\u001b[0m \u001b[1m0s\u001b[0m 7ms/step - accuracy: 0.0012 - loss: 0.0211 - val_accuracy: 0.0032 - val_loss: 0.0037\n",
      "Epoch 39/50\n",
      "\u001b[1m40/40\u001b[0m \u001b[32m━━━━━━━━━━━━━━━━━━━━\u001b[0m\u001b[37m\u001b[0m \u001b[1m0s\u001b[0m 7ms/step - accuracy: 0.0012 - loss: 0.0208 - val_accuracy: 0.0032 - val_loss: 0.0038\n",
      "Epoch 40/50\n",
      "\u001b[1m40/40\u001b[0m \u001b[32m━━━━━━━━━━━━━━━━━━━━\u001b[0m\u001b[37m\u001b[0m \u001b[1m0s\u001b[0m 7ms/step - accuracy: 0.0012 - loss: 0.0210 - val_accuracy: 0.0032 - val_loss: 0.0034\n",
      "Epoch 41/50\n",
      "\u001b[1m40/40\u001b[0m \u001b[32m━━━━━━━━━━━━━━━━━━━━\u001b[0m\u001b[37m\u001b[0m \u001b[1m0s\u001b[0m 7ms/step - accuracy: 0.0012 - loss: 0.0203 - val_accuracy: 0.0032 - val_loss: 0.0032\n",
      "Epoch 42/50\n",
      "\u001b[1m40/40\u001b[0m \u001b[32m━━━━━━━━━━━━━━━━━━━━\u001b[0m\u001b[37m\u001b[0m \u001b[1m0s\u001b[0m 8ms/step - accuracy: 0.0012 - loss: 0.0192 - val_accuracy: 0.0032 - val_loss: 0.0037\n",
      "Epoch 43/50\n",
      "\u001b[1m40/40\u001b[0m \u001b[32m━━━━━━━━━━━━━━━━━━━━\u001b[0m\u001b[37m\u001b[0m \u001b[1m0s\u001b[0m 7ms/step - accuracy: 0.0012 - loss: 0.0188 - val_accuracy: 0.0032 - val_loss: 0.0035\n",
      "Epoch 44/50\n",
      "\u001b[1m40/40\u001b[0m \u001b[32m━━━━━━━━━━━━━━━━━━━━\u001b[0m\u001b[37m\u001b[0m \u001b[1m0s\u001b[0m 7ms/step - accuracy: 0.0012 - loss: 0.0206 - val_accuracy: 0.0032 - val_loss: 0.0032\n",
      "Epoch 45/50\n",
      "\u001b[1m40/40\u001b[0m \u001b[32m━━━━━━━━━━━━━━━━━━━━\u001b[0m\u001b[37m\u001b[0m \u001b[1m0s\u001b[0m 7ms/step - accuracy: 0.0012 - loss: 0.0201 - val_accuracy: 0.0032 - val_loss: 0.0031\n",
      "Epoch 46/50\n",
      "\u001b[1m40/40\u001b[0m \u001b[32m━━━━━━━━━━━━━━━━━━━━\u001b[0m\u001b[37m\u001b[0m \u001b[1m0s\u001b[0m 7ms/step - accuracy: 0.0012 - loss: 0.0202 - val_accuracy: 0.0032 - val_loss: 0.0034\n",
      "Epoch 47/50\n",
      "\u001b[1m40/40\u001b[0m \u001b[32m━━━━━━━━━━━━━━━━━━━━\u001b[0m\u001b[37m\u001b[0m \u001b[1m0s\u001b[0m 7ms/step - accuracy: 0.0012 - loss: 0.0197 - val_accuracy: 0.0032 - val_loss: 0.0031\n",
      "Epoch 48/50\n",
      "\u001b[1m40/40\u001b[0m \u001b[32m━━━━━━━━━━━━━━━━━━━━\u001b[0m\u001b[37m\u001b[0m \u001b[1m0s\u001b[0m 10ms/step - accuracy: 0.0012 - loss: 0.0190 - val_accuracy: 0.0032 - val_loss: 0.0034\n",
      "Epoch 49/50\n",
      "\u001b[1m40/40\u001b[0m \u001b[32m━━━━━━━━━━━━━━━━━━━━\u001b[0m\u001b[37m\u001b[0m \u001b[1m0s\u001b[0m 7ms/step - accuracy: 0.0012 - loss: 0.0189 - val_accuracy: 0.0032 - val_loss: 0.0032\n",
      "Epoch 50/50\n",
      "\u001b[1m40/40\u001b[0m \u001b[32m━━━━━━━━━━━━━━━━━━━━\u001b[0m\u001b[37m\u001b[0m \u001b[1m0s\u001b[0m 7ms/step - accuracy: 0.0012 - loss: 0.0174 - val_accuracy: 0.0032 - val_loss: 0.0033\n"
     ]
    }
   ],
   "source": [
    "history = model.fit(X_train, y_train, epochs=50, batch_size=32, validation_split=0.2, shuffle=False)"
   ]
  },
  {
   "cell_type": "markdown",
   "metadata": {
    "id": "BgK9j0GrUs2l"
   },
   "source": [
    "Create a line plot illustrating both the **training** and **validation loss** over the training epochs."
   ]
  },
  {
   "cell_type": "code",
   "execution_count": 28,
   "metadata": {
    "id": "2u1RylwfUtR0"
   },
   "outputs": [
    {
     "data": {
      "image/png": "[encoded data removed]",
      "text/plain": [
       "<Figure size 640x480 with 1 Axes>"
      ]
     },
     "metadata": {},
     "output_type": "display_data"
    }
   ],
   "source": [
    "import matplotlib.pyplot as plt\n",
    "\n",
    "plt.plot(history.history['loss'], label='Training Loss')\n",
    "plt.plot(history.history['val_loss'], label='Validation Loss')\n",
    "plt.legend()\n",
    "plt.title('Training and Validation Loss')\n",
    "plt.xlabel('Epochs')\n",
    "plt.ylabel('Loss')\n",
    "plt.show()"
   ]
  },
  {
   "cell_type": "markdown",
   "metadata": {
    "id": "gyXZwAVab8Cp"
   },
   "source": [
    "Use the trained model to make predictions for the test set."
   ]
  },
  {
   "cell_type": "code",
   "execution_count": 31,
   "metadata": {
    "id": "EvMfVum6b_9b"
   },
   "outputs": [
    {
     "name": "stdout",
     "output_type": "stream",
     "text": [
      "\u001b[1m13/13\u001b[0m \u001b[32m━━━━━━━━━━━━━━━━━━━━\u001b[0m\u001b[37m\u001b[0m \u001b[1m0s\u001b[0m 3ms/step \n"
     ]
    }
   ],
   "source": [
    "y_pred = model.predict(X_test)"
   ]
  },
  {
   "cell_type": "markdown",
   "metadata": {
    "id": "3VxAvDPtcNCh"
   },
   "source": [
    "Assess the performance of the model by using different metrics provided by the `scikit-learn` library."
   ]
  },
  {
   "cell_type": "code",
   "execution_count": 32,
   "metadata": {
    "id": "V4axpktycQhp"
   },
   "outputs": [
    {
     "name": "stdout",
     "output_type": "stream",
     "text": [
      "RMSE: 0.2172887689132321\n",
      "MAE: 0.18784431787291195\n",
      "R²: -1.5688750754150371\n"
     ]
    }
   ],
   "source": [
    "from sklearn.metrics import mean_squared_error, mean_absolute_error, r2_score\n",
    "import numpy as np\n",
    "\n",
    "rmse = np.sqrt(mean_squared_error(y_test, y_pred))\n",
    "mae = mean_absolute_error(y_test, y_pred)\n",
    "r2 = r2_score(y_test, y_pred)\n",
    "\n",
    "print(f\"RMSE: {rmse}\")\n",
    "print(f\"MAE: {mae}\")\n",
    "print(f\"R²: {r2}\")"
   ]
  },
  {
   "cell_type": "markdown",
   "metadata": {
    "id": "X01Q7Pb9VOAI"
   },
   "source": [
    "Create a line plot in order to compare the actual and predicted mean temperatures for the test set."
   ]
  },
  {
   "cell_type": "code",
   "execution_count": null,
   "metadata": {
    "id": "oeS852CkVPVJ"
   },
   "outputs": [],
   "source": [
    "# Write your code here. Add as many boxes as you need."
   ]
  }
 ],
 "metadata": {
  "accelerator": "GPU",
  "colab": {
   "gpuType": "T4",
   "provenance": []
  },
  "kernelspec": {
   "display_name": "Python 3 (ipykernel)",
   "language": "python",
   "name": "python3"
  },
  "language_info": {
   "codemirror_mode": {
    "name": "ipython",
    "version": 3
   },
   "file_extension": ".py",
   "mimetype": "text/x-python",
   "name": "python",
   "nbconvert_exporter": "python",
   "pygments_lexer": "ipython3",
   "version": "3.12.6"
  }
 },
 "nbformat": 4,
 "nbformat_minor": 4
}
